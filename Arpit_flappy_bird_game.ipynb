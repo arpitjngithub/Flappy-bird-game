{
  "cells": [
    {
      "cell_type": "markdown",
      "metadata": {
        "id": "0V-ozN6Qrygq"
      },
      "source": [
        "# **Importing libraries**"
      ]
    },
    {
      "cell_type": "code",
      "execution_count": 1,
      "metadata": {
        "id": "VWqFRpN7qk3H"
      },
      "outputs": [
        {
          "name": "stdout",
          "output_type": "stream",
          "text": [
            "pygame 2.5.2 (SDL 2.28.3, Python 3.12.4)\n",
            "Hello from the pygame community. https://www.pygame.org/contribute.html\n"
          ]
        }
      ],
      "source": [
        "import pygame\n",
        "import numpy as np\n",
        "import sys\n",
        "import random\n",
        "import time\n",
        "from pygame.locals import *\n",
        "import os\n",
        "import math"
      ]
    },
    {
      "cell_type": "markdown",
      "metadata": {
        "id": "qB1LI5uur_PL"
      },
      "source": [
        "## Define global constants"
      ]
    },
    {
      "cell_type": "code",
      "execution_count": 2,
      "metadata": {
        "id": "7D4tC86Tqk5g"
      },
      "outputs": [],
      "source": [
        "WIDTH, HEIGHT = 576, 1024\n",
        "GRAVITY = 0.25\n",
        "BIRD_JUMP = 5\n",
        "PIPE_GAP = 400\n",
        "PIPE_VELOCITY = 4\n",
        "BIRD_WIDTH, BIRD_HEIGHT = 64, 48\n",
        "PIPE_WIDTH, PIPE_HEIGHT = 90, 600\n",
        "BACKGROUND_COLOR = (0, 102, 204)"
      ]
    },
    {
      "cell_type": "markdown",
      "metadata": {
        "id": "_jTaae4YsDmo"
      },
      "source": [
        "## Initialize Pygame and Set Up the Display"
      ]
    },
    {
      "cell_type": "code",
      "execution_count": 3,
      "metadata": {
        "id": "rFYOydBhqk-W"
      },
      "outputs": [],
      "source": [
        "# pygame.init()\n",
        "screen = pygame.display.set_mode((WIDTH, HEIGHT))\n",
        "pygame.display.set_caption('Flappy Bird')\n",
        "clock = pygame.time.Clock()"
      ]
    },
    {
      "cell_type": "markdown",
      "metadata": {
        "id": "PRw6lOO_sCRs"
      },
      "source": [
        "## Load assets"
      ]
    },
    {
      "cell_type": "code",
      "execution_count": 4,
      "metadata": {
        "id": "yyv2YT71qk79"
      },
      "outputs": [],
      "source": [
        "# Set images for bird and pipe\n",
        "bird_img = pygame.image.load('bird.png').convert_alpha()\n",
        "bird_img = pygame.transform.scale(bird_img, (BIRD_WIDTH, BIRD_HEIGHT))\n",
        "pipe_img = pygame.image.load('pipe.png').convert_alpha()\n",
        "pipe_img = pygame.transform.scale(pipe_img, (PIPE_WIDTH, PIPE_HEIGHT))"
      ]
    },
    {
      "cell_type": "markdown",
      "metadata": {
        "id": "wQTJumwruV7C"
      },
      "source": [
        "## Making Bird and Pipe Classes"
      ]
    },
    {
      "cell_type": "code",
      "execution_count": 5,
      "metadata": {
        "id": "kTY3-O6IqlCi"
      },
      "outputs": [],
      "source": [
        "# Bird class\n",
        "class Bird:\n",
        "    def __init__(self,screen):\n",
        "        # Define Bird's variables that you need to initialize\n",
        "        self.x = 100\n",
        "        self.screen=screen\n",
        "        self.y = HEIGHT // 2\n",
        "        self.velocity = 0\n",
        "        self.img = bird_img\n",
        "\n",
        "    def jump(self):\n",
        "        # Make a function that when called, causes the bird to jump\n",
        "        self.velocity = -BIRD_JUMP\n",
        "\n",
        "    def update(self):\n",
        "        # Make necessary updates in the bird's velocity as well as y coordinate based on gravity (to be updated each frame).\n",
        "        self.velocity += GRAVITY\n",
        "        self.y += self.velocity\n",
        "\n",
        "    def draw(self):\n",
        "        # Pygame function to draw the bird on screen\n",
        "        self.screen.blit(self.img, (self.x, self.y))\n",
        "\n",
        "# Pipe class\n",
        "class Pipe:\n",
        "    def __init__(self, x,screen):\n",
        "        # Define Pipe's variables that are needed to be initialized.\n",
        "        self.x = x\n",
        "        self.screen = screen\n",
        "        self.height = random.randint(200, 600)\n",
        "        self.top = self.height - PIPE_HEIGHT\n",
        "        self.bottom = self.height + PIPE_GAP\n",
        "        self.pipe_top = pygame.transform.flip(pipe_img, False, True)\n",
        "        self.pipe_bottom = pipe_img\n",
        "        self.passed = False\n",
        "\n",
        "    def move(self):\n",
        "        # Function to update the pipe's coordinates based on PIPE_VELOCITY (to be called each frame, similar to Bird.update).\n",
        "        self.x -= PIPE_VELOCITY\n",
        "\n",
        "    def draw(self):\n",
        "        # Draw both segments of the pipe on screen\n",
        "        self.screen.blit(self.pipe_top, (self.x, self.top))\n",
        "        self.screen.blit(self.pipe_bottom, (self.x, self.bottom))\n"
      ]
    },
    {
      "cell_type": "markdown",
      "metadata": {
        "id": "yJ60SLlBubWD"
      },
      "source": [
        "## Collision detection function"
      ]
    },
    {
      "cell_type": "code",
      "execution_count": 6,
      "metadata": {
        "id": "T0TRqCU6qlE2"
      },
      "outputs": [],
      "source": [
        "def check_collision(bird, pipes):\n",
        "    # Check if bird hits the top or bottom of the screen\n",
        "    if bird.y <= 0 or bird.y + BIRD_HEIGHT >= HEIGHT:\n",
        "        return True\n",
        "\n",
        "    # Check for collision with pipes\n",
        "    for pipe in pipes:\n",
        "        # Check if the bird is within the pipe's x range\n",
        "        if pipe.x < bird.x + BIRD_WIDTH < pipe.x + PIPE_WIDTH or pipe.x < bird.x < pipe.x + PIPE_WIDTH:\n",
        "            # Check if the bird hits the top or bottom pipe\n",
        "            if bird.y < pipe.height or bird.y + BIRD_HEIGHT > pipe.height + PIPE_GAP:\n",
        "                return True\n",
        "\n",
        "    return False\n"
      ]
    },
    {
      "cell_type": "markdown",
      "metadata": {
        "id": "iQ0afoYeurnw"
      },
      "source": [
        "## Main Game Loop"
      ]
    },
    {
      "cell_type": "code",
      "execution_count": 8,
      "metadata": {},
      "outputs": [
        {
          "name": "stdout",
          "output_type": "stream",
          "text": [
            "Score:  1\n",
            "Score:  2\n",
            "Score:  3\n",
            "Score:  4\n",
            "Score:  5\n",
            "Score:  6\n",
            "Score:  7\n",
            "Score:  8\n"
          ]
        }
      ],
      "source": [
        "def main():\n",
        "    # Create bird/pipe instances and score counter\n",
        "    pygame.init()\n",
        "    score = 0\n",
        "    game_over = False\n",
        "    screen = pygame.display.set_mode((WIDTH, HEIGHT))\n",
        "    bird = Bird(screen)\n",
        "    pipes = [Pipe(WIDTH, screen)]\n",
        "\n",
        "    # Load font\n",
        "    font = pygame.font.Font(None, 36)  # None for default font, 36 for font size\n",
        "\n",
        "    while not game_over:\n",
        "        for event in pygame.event.get():\n",
        "            if event.type == pygame.QUIT:\n",
        "                game_over = True\n",
        "                pygame.quit()\n",
        "                sys.exit()\n",
        "            # Set an event checker to allow user to jump\n",
        "            if event.type == pygame.KEYDOWN:\n",
        "                if event.key == pygame.K_SPACE:\n",
        "                    bird.jump()\n",
        "\n",
        "        screen.fill(BACKGROUND_COLOR)\n",
        "\n",
        "        # Update bird\n",
        "        bird.update()\n",
        "\n",
        "        # Remove pipes that have moved off the screen\n",
        "        pipes = [pipe for pipe in pipes if pipe.x + pipe.pipe_top.get_width() > 0]\n",
        "\n",
        "        # If there are no pipes or the last pipe is far enough, create a new pipe\n",
        "        if len(pipes) == 0 or pipes[-1].x < WIDTH - PIPE_GAP:\n",
        "            pipes.append(Pipe(WIDTH, screen))\n",
        "\n",
        "        # Move and draw pipes\n",
        "        for pipe in pipes:\n",
        "            pipe.move()\n",
        "            pipe.draw()\n",
        "\n",
        "            # Check if bird passes through pipes\n",
        "            if pipe.x + pipe.pipe_top.get_width() < bird.x and not pipe.passed:\n",
        "                pipe.passed = True\n",
        "                score += 1\n",
        "                print(\"Score: \", score)  # Print score or handle it as needed\n",
        "\n",
        "            # Check for collision\n",
        "            if check_collision(bird, pipes):\n",
        "                game_over = True\n",
        "\n",
        "        # Draw bird\n",
        "        bird.draw()\n",
        "\n",
        "        # Render and display score\n",
        "        score_text = font.render(\"Score: \" + str(score), True, (255, 255, 255))\n",
        "        screen.blit(score_text, (10, 10))  # Adjust position as needed\n",
        "\n",
        "        pygame.display.update()\n",
        "        clock.tick(60)\n",
        "\n",
        "    pygame.quit()\n",
        "\n",
        "if __name__ == \"__main__\":\n",
        "    main()\n"
      ]
    },
    {
      "cell_type": "code",
      "execution_count": null,
      "metadata": {},
      "outputs": [],
      "source": []
    },
    {
      "cell_type": "code",
      "execution_count": null,
      "metadata": {},
      "outputs": [],
      "source": []
    }
  ],
  "metadata": {
    "colab": {
      "provenance": []
    },
    "kernelspec": {
      "display_name": "Python 3",
      "name": "python3"
    },
    "language_info": {
      "codemirror_mode": {
        "name": "ipython",
        "version": 3
      },
      "file_extension": ".py",
      "mimetype": "text/x-python",
      "name": "python",
      "nbconvert_exporter": "python",
      "pygments_lexer": "ipython3",
      "version": "3.12.4"
    }
  },
  "nbformat": 4,
  "nbformat_minor": 0
}
